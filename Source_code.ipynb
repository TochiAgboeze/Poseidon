{
  "cells": [
    {
      "cell_type": "code",
      "source": [
        "folder_path = \"/content/drive/MyDrive/filtered/\" # Change to folder containing csv files"
      ],
      "metadata": {
        "id": "3nCQpp9zStvf"
      },
      "execution_count": 1,
      "outputs": []
    },
    {
      "cell_type": "code",
      "execution_count": 3,
      "metadata": {
        "id": "9MEwPmpMsXj5"
      },
      "outputs": [],
      "source": [
        "# Import libraries\n",
        "import pandas as pd\n",
        "import numpy as np\n",
        "import os\n",
        "from lightgbm import LGBMRegressor\n",
        "import warnings\n",
        "warnings.filterwarnings(\"ignore\")"
      ]
    },
    {
      "cell_type": "code",
      "execution_count": 4,
      "metadata": {
        "id": "NMkSXmVipbXi"
      },
      "outputs": [],
      "source": [
        "# Function to get SMAPE score\n",
        "def smape(A, F):\n",
        "    return 100/len(A) * np.sum(2 * np.abs(F - A) / (np.abs(A) + np.abs(F)))"
      ]
    },
    {
      "cell_type": "markdown",
      "source": [
        "## **Data Cleaning Process**"
      ],
      "metadata": {
        "id": "e_tr2G7VHHvE"
      }
    },
    {
      "cell_type": "code",
      "source": [
        "# Data Cleaning\n",
        "\n",
        "for i in os.listdir(folder_path):\n",
        "  path=os.path.join(folder_path, i)\n",
        "  df=pd.read_csv(path, encoding='latin-1', header=None)\n",
        "  df[\"data\"]=df[0].str.split(';')\n",
        "  df_=pd.DataFrame(df[\"data\"].to_list(), columns=['Date', 'Data1', 'Data2'])\n",
        "  df[1]=df[1].str.strip(' ;')\n",
        "  df_[1]=df[1]\n",
        "  df_[\"Levels\"]=df_[\"Data1\"]+\".\"+df_[1]\n",
        "  df_=df_[[\"Date\",\"Levels\"]]\n",
        "  df_[\"Levels\"]=df_[\"Levels\"].astype(\"float64\")\n",
        "  df_.to_csv(path, index=False)"
      ],
      "metadata": {
        "id": "Z9UwdbBVHK1l",
        "collapsed": true
      },
      "execution_count": null,
      "outputs": []
    },
    {
      "cell_type": "markdown",
      "metadata": {
        "id": "0Dl-KrrexDLk"
      },
      "source": [
        "## **Feature Extraction Technique with LightGBM Model**"
      ]
    },
    {
      "cell_type": "code",
      "source": [
        "# Instantiate Model\n",
        "model_name=\"LightGBM\"\n",
        "model=LGBMRegressor(verbose=-1)\n",
        "\n",
        "# Create empty lists\n",
        "Pred=[]\n",
        "actuals=[]\n",
        "\n",
        "# Loop through each csv file\n",
        "for i in os.listdir(folder_path):\n",
        "\n",
        "  # Read the csv file\n",
        "  path=os.path.join(folder_path, i)\n",
        "  df=pd.read_csv(path)\n",
        "\n",
        "  # Remove last row and fill na's\n",
        "  df=df.iloc[:-1,:]\n",
        "  df.ffill(inplace=True)\n",
        "\n",
        "  # Convert date to datetime feature\n",
        "  df[\"Date\"]=pd.to_datetime(df[\"Date\"], format=\"%d.%m.%Y %H:%M:%S   \")\n",
        "  df.sort_values(by=\"Date\", inplace=True)\n",
        "\n",
        "  # Extract datetime features\n",
        "  df[\"Day\"]=df[\"Date\"].dt.day\n",
        "  df[\"Dayofweek\"]=df[\"Date\"].dt.dayofweek\n",
        "  df[\"Month\"]=df[\"Date\"].dt.month\n",
        "  df[\"Year\"]=df[\"Date\"].dt.year\n",
        "  df[\"Quarter\"]=df[\"Date\"].dt.quarter\n",
        "  df[\"Week\"]=df[\"Date\"].dt.isocalendar().week\n",
        "  df=df.drop(\"Date\", axis=1)\n",
        "\n",
        "  # Split data to train and test\n",
        "  train=df.iloc[:-26,:]\n",
        "  test=df.iloc[-26:, :]\n",
        "\n",
        "  # Split data to dependent and independent variables\n",
        "  X_train=train.drop(\"Levels\", axis=1)\n",
        "  y_train=train[\"Levels\"]\n",
        "  X_test=test.drop(\"Levels\", axis=1)\n",
        "  y_test=test[\"Levels\"]\n",
        "\n",
        "  # Train model\n",
        "  model.fit(X_train, y_train)\n",
        "  pred=model.predict(X_test)\n",
        "\n",
        "  # Test the model\n",
        "  for yss in y_test.values:\n",
        "    actuals.append(yss)\n",
        "  for yss in pred:\n",
        "    Pred.append(yss)\n",
        "\n",
        "# Create dataframe for y_tests and corresponding Predictions\n",
        "test=pd.DataFrame({\"Predictions\":Pred, \"Actuals\":actuals}).dropna()\n",
        "\n",
        "# Calculate SMAPE Score\n",
        "A = test[\"Actuals\"]\n",
        "F = test[\"Predictions\"]\n",
        "print(model_name+\" SMAPE Score: \", smape(A, F))"
      ],
      "metadata": {
        "colab": {
          "base_uri": "https://localhost:8080/"
        },
        "id": "l7-bsKWXG5dl",
        "outputId": "a7423df2-89f7-49bb-ba23-e2916822bad5"
      },
      "execution_count": 5,
      "outputs": [
        {
          "output_type": "stream",
          "name": "stdout",
          "text": [
            "LightGBM SMAPE Score:  0.1208221921834496\n"
          ]
        }
      ]
    },
    {
      "cell_type": "markdown",
      "source": [
        "## **Forecast for 2022 - 2024 Feb**"
      ],
      "metadata": {
        "id": "oO4x7KzCI_hV"
      }
    },
    {
      "cell_type": "code",
      "source": [
        "# Create a date range starting from 01.01.2022 with monthly frequency\n",
        "date_range = pd.date_range(start='2022-01-01', end='2024-02-01', freq='MS')\n",
        "\n",
        "# Create a DataFrame\n",
        "df_ = pd.DataFrame(date_range, columns=['Date'])\n",
        "\n",
        "# Extract Features\n",
        "df_[\"Day\"]=df_[\"Date\"].dt.day\n",
        "df_[\"Dayofweek\"]=df_[\"Date\"].dt.dayofweek\n",
        "df_[\"Month\"]=df_[\"Date\"].dt.month\n",
        "df_[\"Year\"]=df_[\"Date\"].dt.year\n",
        "df_[\"Quarter\"]=df_[\"Date\"].dt.quarter\n",
        "df_[\"Week\"]=df_[\"Date\"].dt.isocalendar().week\n",
        "\n",
        "df_.drop(\"Date\", axis=1, inplace=True)"
      ],
      "metadata": {
        "id": "XPi57SVzJJEE"
      },
      "execution_count": 6,
      "outputs": []
    },
    {
      "cell_type": "code",
      "source": [
        "Pred=[]\n",
        "\n",
        "# Loop through each CSV file\n",
        "for i in os.listdir(folder_path):\n",
        "\n",
        "    # Read CSV, drop 2022 and fill na\n",
        "    path=os.path.join(folder_path, i)\n",
        "    df=pd.read_csv(path)\n",
        "    df=df.iloc[:-1,:]\n",
        "    df.ffill(inplace=True)\n",
        "\n",
        "    # Change Date column to datetime features\n",
        "    df[\"Date\"]=pd.to_datetime(df[\"Date\"], format=\"%d.%m.%Y %H:%M:%S   \")\n",
        "    df.sort_values(by=\"Date\", inplace=True)\n",
        "\n",
        "    # Extract Date features\n",
        "    df[\"Day\"]=df[\"Date\"].dt.day\n",
        "    df[\"Dayofweek\"]=df[\"Date\"].dt.dayofweek\n",
        "    df[\"Month\"]=df[\"Date\"].dt.month\n",
        "    df[\"Year\"]=df[\"Date\"].dt.year\n",
        "    df[\"Quarter\"]=df[\"Date\"].dt.quarter\n",
        "    df[\"Week\"]=df[\"Date\"].dt.isocalendar().week\n",
        "    df=df.drop(\"Date\", axis=1)\n",
        "\n",
        "    # Split to dependent and independent variables\n",
        "    X=df.drop(\"Levels\", axis=1)\n",
        "    y=df[\"Levels\"]\n",
        "\n",
        "    # Train model\n",
        "    model=LGBMRegressor(verbose=-1)\n",
        "    model.fit(X, y)\n",
        "\n",
        "    # Make forecast\n",
        "    pred=model.predict(df_)\n",
        "\n",
        "    # Append forecast and site id to Pred list\n",
        "    Pred.append([i.split(\".\")[0], pred])\n",
        "\n",
        "# Generate dataframe for forecasted data\n",
        "preds=pd.DataFrame(Pred)\n",
        "sites=preds[0].values\n",
        "preds=pd.DataFrame(preds[1].to_list())\n",
        "preds['Sites']=sites\n",
        "preds.set_index('Sites', inplace=True)\n",
        "preds=preds.T\n",
        "preds[\"Date\"] = date_range\n",
        "preds.set_index(\"Date\", inplace=True)\n",
        "preds=preds.round(2)\n",
        "preds\n",
        "preds.to_csv(\"groundwater_forecasts.csv\")"
      ],
      "metadata": {
        "id": "1gRUS9c_JRfw"
      },
      "execution_count": 7,
      "outputs": []
    },
    {
      "cell_type": "markdown",
      "source": [
        "## **Train and Make Prediction For Specific Geographic Location**"
      ],
      "metadata": {
        "id": "HsbXBNgJG6hp"
      }
    },
    {
      "cell_type": "code",
      "source": [
        "# Define the file path for the training data\n",
        "file_path = \"/content/drive/MyDrive/filtered/330803.csv\"  # Change to the specific data file path\n",
        "# Define the start and end dates for the forecast\n",
        "start_date = \"2022-01-01\"  # Change to desired start date\n",
        "end_date = \"2024-02-01\"    # Change to desired end date\n"
      ],
      "metadata": {
        "id": "rjm69KDPUsYi"
      },
      "execution_count": 8,
      "outputs": []
    },
    {
      "cell_type": "code",
      "source": [
        "def make_forecast_dates(start_date = \"2022-01-01\", end_date=\"2024-02-01\"):\n",
        "\n",
        "  # Create a date range starting from start date with monthly frequency\n",
        "  date_range = pd.date_range(start=start_date, end=end_date, freq='MS')\n",
        "\n",
        "  # Create a DataFrame\n",
        "  df_ = pd.DataFrame(date_range, columns=['Date'])\n",
        "\n",
        "  # Extract Date Features from DateFrame\n",
        "  df_[\"Day\"]=df_[\"Date\"].dt.day\n",
        "  df_[\"Dayofweek\"]=df_[\"Date\"].dt.dayofweek\n",
        "  df_[\"Month\"]=df_[\"Date\"].dt.month\n",
        "  df_[\"Year\"]=df_[\"Date\"].dt.year\n",
        "  df_[\"Quarter\"]=df_[\"Date\"].dt.quarter\n",
        "  df_[\"Week\"]=df_[\"Date\"].dt.isocalendar().week\n",
        "\n",
        "  return df_"
      ],
      "metadata": {
        "id": "wgCxhPgUCOml"
      },
      "execution_count": 9,
      "outputs": []
    },
    {
      "cell_type": "code",
      "execution_count": 10,
      "metadata": {
        "id": "nfsrTMKWvXKf"
      },
      "outputs": [],
      "source": [
        "def train_model(file_path):\n",
        "\n",
        "  # Read in the dataset for specific loactaion\n",
        "  df=pd.read_csv(file_path)\n",
        "\n",
        "  # Remove 2022 row\n",
        "  df=df.iloc[:-1,:]\n",
        "\n",
        "  # Fill missing values\n",
        "  df.ffill(inplace=True)\n",
        "\n",
        "  # Convert date column to datetime type\n",
        "  df[\"Date\"]=pd.to_datetime(df[\"Date\"], format=\"%d.%m.%Y %H:%M:%S   \")\n",
        "  df.sort_values(by=\"Date\", inplace=True)\n",
        "\n",
        "  # Extract Features\n",
        "  df[\"Day\"]=df[\"Date\"].dt.day\n",
        "  df[\"Dayofweek\"]=df[\"Date\"].dt.dayofweek\n",
        "  df[\"Month\"]=df[\"Date\"].dt.month\n",
        "  df[\"Year\"]=df[\"Date\"].dt.year\n",
        "  df[\"Quarter\"]=df[\"Date\"].dt.quarter\n",
        "  df[\"Week\"]=df[\"Date\"].dt.isocalendar().week\n",
        "\n",
        "  # Split data to dependent and independent variables\n",
        "  df=df.drop(\"Date\", axis=1)\n",
        "  X=df.drop(\"Levels\", axis=1)\n",
        "  y=df[\"Levels\"]\n",
        "\n",
        "  # Train and return the model\n",
        "  model=LGBMRegressor(verbose=-1)\n",
        "  model.fit(X, y)\n",
        "  return model"
      ]
    },
    {
      "cell_type": "code",
      "source": [
        "def make_forecasts(model, forecast_dates):\n",
        "\n",
        "  forecasts=pd.DataFrame()\n",
        "\n",
        "  # Make Predictions for forecast_dates\n",
        "  forecasts[\"Date\"]= forecast_dates[\"Date\"]\n",
        "  forecast_dates.drop(\"Date\", axis=1, inplace=True)\n",
        "  pred=model.predict(forecast_dates)\n",
        "  forecasts[\"Levels\"]=pred\n",
        "  forecasts=forecasts.round(2)\n",
        "\n",
        "  return forecasts"
      ],
      "metadata": {
        "id": "3rUOHAvCF8zP"
      },
      "execution_count": 11,
      "outputs": []
    },
    {
      "cell_type": "code",
      "source": [
        "# Generate DataFrame for forecast dates\n",
        "forecast_dates = make_forecast_dates(start_date=start_date, end_date=end_date)\n",
        "\n",
        "# Train the model using the specified data file\n",
        "model = train_model(file_path)\n",
        "\n",
        "# Make forecasts using the trained model and forecast dates\n",
        "forecasts = make_forecasts(model, forecast_dates)\n",
        "\n",
        "# Optionally, print or save the forecasts\n",
        "print(forecasts)\n",
        "forecasts.to_csv(\"forecasts.csv\", index=False)\n",
        "print(\"\\nFORECASTS SAVED SUCCESSFULLY\")"
      ],
      "metadata": {
        "colab": {
          "base_uri": "https://localhost:8080/"
        },
        "id": "EWq4xOvIC5di",
        "outputId": "3c34ac30-646e-49fb-fb2b-75a1c42e64ea"
      },
      "execution_count": 12,
      "outputs": [
        {
          "output_type": "stream",
          "name": "stdout",
          "text": [
            "         Date  Levels\n",
            "0  2022-01-01  637.85\n",
            "1  2022-02-01  637.77\n",
            "2  2022-03-01  637.84\n",
            "3  2022-04-01  638.24\n",
            "4  2022-05-01  638.45\n",
            "5  2022-06-01  638.48\n",
            "6  2022-07-01  638.44\n",
            "7  2022-08-01  638.31\n",
            "8  2022-09-01  638.33\n",
            "9  2022-10-01  638.33\n",
            "10 2022-11-01  638.26\n",
            "11 2022-12-01  638.23\n",
            "12 2023-01-01  637.75\n",
            "13 2023-02-01  637.74\n",
            "14 2023-03-01  637.81\n",
            "15 2023-04-01  638.28\n",
            "16 2023-05-01  638.48\n",
            "17 2023-06-01  638.52\n",
            "18 2023-07-01  638.44\n",
            "19 2023-08-01  638.31\n",
            "20 2023-09-01  638.35\n",
            "21 2023-10-01  638.24\n",
            "22 2023-11-01  638.22\n",
            "23 2023-12-01  638.24\n",
            "24 2024-01-01  637.82\n",
            "25 2024-02-01  637.78\n",
            "\n",
            "FORECASTS SAVED SUCCESSFULLY\n"
          ]
        }
      ]
    }
  ],
  "metadata": {
    "colab": {
      "provenance": [],
      "gpuType": "T4"
    },
    "kernelspec": {
      "display_name": "Python 3",
      "name": "python3"
    },
    "language_info": {
      "name": "python"
    },
    "accelerator": "GPU"
  },
  "nbformat": 4,
  "nbformat_minor": 0
}